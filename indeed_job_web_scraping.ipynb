{
  "nbformat": 4,
  "nbformat_minor": 0,
  "metadata": {
    "kernelspec": {
      "display_name": "Python 3",
      "language": "python",
      "name": "python3"
    },
    "language_info": {
      "codemirror_mode": {
        "name": "ipython",
        "version": 3
      },
      "file_extension": ".py",
      "mimetype": "text/x-python",
      "name": "python",
      "nbconvert_exporter": "python",
      "pygments_lexer": "ipython3",
      "version": "3.7.3"
    },
    "colab": {
      "name": "indeed_job_web_scraping.ipynb",
      "provenance": []
    }
  },
  "cells": [
    {
      "cell_type": "markdown",
      "metadata": {
        "id": "Em5g2MFuHftN"
      },
      "source": [
        "## Installing necessary libraries"
      ]
    },
    {
      "cell_type": "code",
      "metadata": {
        "colab": {
          "base_uri": "https://localhost:8080/"
        },
        "id": "TzqkxOSuHpmh",
        "outputId": "ba6c1661-c928-45b3-e8e3-fe6afb420d31"
      },
      "source": [
        "pip install responses"
      ],
      "execution_count": 1,
      "outputs": [
        {
          "output_type": "stream",
          "text": [
            "Collecting responses\n",
            "  Downloading https://files.pythonhosted.org/packages/ba/00/0e63b7024c2d873bf57411ab0ed77eeafd5f44bace7cbf1d56bca8ab3be2/responses-0.13.3-py2.py3-none-any.whl\n",
            "Requirement already satisfied: six in /usr/local/lib/python3.7/dist-packages (from responses) (1.15.0)\n",
            "Requirement already satisfied: requests>=2.0 in /usr/local/lib/python3.7/dist-packages (from responses) (2.23.0)\n",
            "Collecting urllib3>=1.25.10\n",
            "\u001b[?25l  Downloading https://files.pythonhosted.org/packages/0c/cd/1e2ec680ec7b09846dc6e605f5a7709dfb9d7128e51a026e7154e18a234e/urllib3-1.26.5-py2.py3-none-any.whl (138kB)\n",
            "\u001b[K     |████████████████████████████████| 143kB 28.3MB/s \n",
            "\u001b[?25hRequirement already satisfied: certifi>=2017.4.17 in /usr/local/lib/python3.7/dist-packages (from requests>=2.0->responses) (2021.5.30)\n",
            "Requirement already satisfied: idna<3,>=2.5 in /usr/local/lib/python3.7/dist-packages (from requests>=2.0->responses) (2.10)\n",
            "Requirement already satisfied: chardet<4,>=3.0.2 in /usr/local/lib/python3.7/dist-packages (from requests>=2.0->responses) (3.0.4)\n",
            "\u001b[31mERROR: requests 2.23.0 has requirement urllib3!=1.25.0,!=1.25.1,<1.26,>=1.21.1, but you'll have urllib3 1.26.5 which is incompatible.\u001b[0m\n",
            "\u001b[31mERROR: datascience 0.10.6 has requirement folium==0.2.1, but you'll have folium 0.8.3 which is incompatible.\u001b[0m\n",
            "Installing collected packages: urllib3, responses\n",
            "  Found existing installation: urllib3 1.24.3\n",
            "    Uninstalling urllib3-1.24.3:\n",
            "      Successfully uninstalled urllib3-1.24.3\n",
            "Successfully installed responses-0.13.3 urllib3-1.26.5\n"
          ],
          "name": "stdout"
        }
      ]
    },
    {
      "cell_type": "code",
      "metadata": {
        "id": "693HsRslfM3I",
        "colab": {
          "base_uri": "https://localhost:8080/"
        },
        "outputId": "08848001-2e78-41ec-af07-fc3eadac1f63"
      },
      "source": [
        "pip install today"
      ],
      "execution_count": 2,
      "outputs": [
        {
          "output_type": "stream",
          "text": [
            "Collecting today\n",
            "  Downloading https://files.pythonhosted.org/packages/43/ab/d5746a1986da9cd30c2c1e5584bb933a2ece668e14f65b284c2546134d67/today-0.2.tar.gz\n",
            "Requirement already satisfied: prettytable>=0.7 in /usr/local/lib/python3.7/dist-packages (from today) (2.1.0)\n",
            "Requirement already satisfied: importlib-metadata; python_version < \"3.8\" in /usr/local/lib/python3.7/dist-packages (from prettytable>=0.7->today) (4.5.0)\n",
            "Requirement already satisfied: wcwidth in /usr/local/lib/python3.7/dist-packages (from prettytable>=0.7->today) (0.2.5)\n",
            "Requirement already satisfied: zipp>=0.5 in /usr/local/lib/python3.7/dist-packages (from importlib-metadata; python_version < \"3.8\"->prettytable>=0.7->today) (3.4.1)\n",
            "Requirement already satisfied: typing-extensions>=3.6.4; python_version < \"3.8\" in /usr/local/lib/python3.7/dist-packages (from importlib-metadata; python_version < \"3.8\"->prettytable>=0.7->today) (3.7.4.3)\n",
            "Building wheels for collected packages: today\n",
            "  Building wheel for today (setup.py) ... \u001b[?25l\u001b[?25hdone\n",
            "  Created wheel for today: filename=today-0.2-cp37-none-any.whl size=2302 sha256=f3519d6fa7db033f29ff97690e34c6c20b8ef431c8d9e9015151a925288aa8fe\n",
            "  Stored in directory: /root/.cache/pip/wheels/24/22/4d/f4edebd0c412f9f72cb89683321079f660e5c89027550c00d8\n",
            "Successfully built today\n",
            "Installing collected packages: today\n",
            "Successfully installed today-0.2\n"
          ],
          "name": "stdout"
        }
      ]
    },
    {
      "cell_type": "markdown",
      "metadata": {
        "id": "7ufrZ1EDHtoQ"
      },
      "source": [
        "#Importing libraries"
      ]
    },
    {
      "cell_type": "code",
      "metadata": {
        "id": "t04Q-gxXfM3J",
        "colab": {
          "base_uri": "https://localhost:8080/"
        },
        "outputId": "1c90612e-26aa-4633-a701-4528b12f915c"
      },
      "source": [
        "\n",
        "import csv\n",
        "from datetime import datetime\n",
        "from bs4 import BeautifulSoup as bs\n",
        "import requests\n",
        "import responses"
      ],
      "execution_count": 3,
      "outputs": [
        {
          "output_type": "stream",
          "text": [
            "/usr/local/lib/python3.7/dist-packages/requests/__init__.py:91: RequestsDependencyWarning: urllib3 (1.26.5) or chardet (3.0.4) doesn't match a supported version!\n",
            "  RequestsDependencyWarning)\n"
          ],
          "name": "stderr"
        }
      ]
    },
    {
      "cell_type": "code",
      "metadata": {
        "id": "V6IfhvJQfM3K"
      },
      "source": [
        "def get_url (position, location):\n",
        "\n",
        "    template = \"https://in.indeed.com/jobs?q={}&l={}\"\n",
        "    url = template.format(position, location)\n",
        "    return url"
      ],
      "execution_count": 4,
      "outputs": []
    },
    {
      "cell_type": "code",
      "metadata": {
        "id": "qSfO6DzEfM3K"
      },
      "source": [
        "url = get_url('data analyst','kerala')"
      ],
      "execution_count": 5,
      "outputs": []
    },
    {
      "cell_type": "markdown",
      "metadata": {
        "id": "dVtDpdtAfM3L"
      },
      "source": [
        "## Extract Raw html"
      ]
    },
    {
      "cell_type": "code",
      "metadata": {
        "id": "tlcltumXfM3L"
      },
      "source": [
        "response = requests.get(url)"
      ],
      "execution_count": 6,
      "outputs": []
    },
    {
      "cell_type": "code",
      "metadata": {
        "id": "ugusJGQvfM3M",
        "colab": {
          "base_uri": "https://localhost:8080/"
        },
        "outputId": "64410beb-adae-4d89-ed44-60653acdc77f"
      },
      "source": [
        "response"
      ],
      "execution_count": 7,
      "outputs": [
        {
          "output_type": "execute_result",
          "data": {
            "text/plain": [
              "<Response [200]>"
            ]
          },
          "metadata": {
            "tags": []
          },
          "execution_count": 7
        }
      ]
    },
    {
      "cell_type": "code",
      "metadata": {
        "id": "PD6myKXWfM3N",
        "colab": {
          "base_uri": "https://localhost:8080/",
          "height": 35
        },
        "outputId": "652fdd90-8133-4510-edf5-b15ea1803d90"
      },
      "source": [
        "response.reason"
      ],
      "execution_count": 8,
      "outputs": [
        {
          "output_type": "execute_result",
          "data": {
            "application/vnd.google.colaboratory.intrinsic+json": {
              "type": "string"
            },
            "text/plain": [
              "''"
            ]
          },
          "metadata": {
            "tags": []
          },
          "execution_count": 8
        }
      ]
    },
    {
      "cell_type": "markdown",
      "metadata": {
        "id": "2tlsATHkfM3O"
      },
      "source": [
        "#### Response 200 shows that our request is successful"
      ]
    },
    {
      "cell_type": "code",
      "metadata": {
        "id": "jMhfARk5fM3O"
      },
      "source": [
        "soup = bs(response.text,'html.parser')"
      ],
      "execution_count": 9,
      "outputs": []
    },
    {
      "cell_type": "code",
      "metadata": {
        "id": "XdgDXAF3fM3P"
      },
      "source": [
        "cards = soup.find_all('div','jobsearch-SerpJobCard')"
      ],
      "execution_count": 10,
      "outputs": []
    },
    {
      "cell_type": "code",
      "metadata": {
        "id": "sS4E6phDfM3Q",
        "colab": {
          "base_uri": "https://localhost:8080/"
        },
        "outputId": "5dfd4d63-82ae-4fb9-9dfa-fe75649bfc98"
      },
      "source": [
        "len(cards)"
      ],
      "execution_count": 11,
      "outputs": [
        {
          "output_type": "execute_result",
          "data": {
            "text/plain": [
              "15"
            ]
          },
          "metadata": {
            "tags": []
          },
          "execution_count": 11
        }
      ]
    },
    {
      "cell_type": "markdown",
      "metadata": {
        "id": "K5MgyrLYfM3R"
      },
      "source": [
        "## Protyping the model with a single record"
      ]
    },
    {
      "cell_type": "code",
      "metadata": {
        "id": "xXl_P58BfM3S"
      },
      "source": [
        "card = cards[0]"
      ],
      "execution_count": 12,
      "outputs": []
    },
    {
      "cell_type": "code",
      "metadata": {
        "id": "dEcG5-mpfM3T"
      },
      "source": [
        "atag = card.h2.a"
      ],
      "execution_count": 13,
      "outputs": []
    },
    {
      "cell_type": "code",
      "metadata": {
        "id": "paTFVD9bfM3V"
      },
      "source": [
        "job_title = atag.get('title')"
      ],
      "execution_count": 14,
      "outputs": []
    },
    {
      "cell_type": "code",
      "metadata": {
        "id": "s16x24VxfM3Y",
        "colab": {
          "base_uri": "https://localhost:8080/",
          "height": 35
        },
        "outputId": "bb4a6519-0c20-486a-a3a5-47f34c884d9d"
      },
      "source": [
        "job_title"
      ],
      "execution_count": 15,
      "outputs": [
        {
          "output_type": "execute_result",
          "data": {
            "application/vnd.google.colaboratory.intrinsic+json": {
              "type": "string"
            },
            "text/plain": [
              "'Data Analyst'"
            ]
          },
          "metadata": {
            "tags": []
          },
          "execution_count": 15
        }
      ]
    },
    {
      "cell_type": "code",
      "metadata": {
        "id": "T_2zgKJNfM3Z",
        "colab": {
          "base_uri": "https://localhost:8080/",
          "height": 35
        },
        "outputId": "a4da6bcf-91c4-4b3f-cb27-b7c6a5a6ee92"
      },
      "source": [
        "atag.get(\"href\")"
      ],
      "execution_count": 16,
      "outputs": [
        {
          "output_type": "execute_result",
          "data": {
            "application/vnd.google.colaboratory.intrinsic+json": {
              "type": "string"
            },
            "text/plain": [
              "'/rc/clk?jk=4901a914a5935cd9&fccid=342e2af6a6c349ae&vjs=3'"
            ]
          },
          "metadata": {
            "tags": []
          },
          "execution_count": 16
        }
      ]
    },
    {
      "cell_type": "code",
      "metadata": {
        "id": "8p5RtU80fM3a"
      },
      "source": [
        "job_url ='https://in.indeed.com' + atag.get(\"href\")"
      ],
      "execution_count": 17,
      "outputs": []
    },
    {
      "cell_type": "code",
      "metadata": {
        "id": "LzoDH2MhfM3b",
        "colab": {
          "base_uri": "https://localhost:8080/",
          "height": 35
        },
        "outputId": "0f190cde-21ae-470a-dcd7-f1dab88097ce"
      },
      "source": [
        "job_url"
      ],
      "execution_count": 18,
      "outputs": [
        {
          "output_type": "execute_result",
          "data": {
            "application/vnd.google.colaboratory.intrinsic+json": {
              "type": "string"
            },
            "text/plain": [
              "'https://in.indeed.com/rc/clk?jk=4901a914a5935cd9&fccid=342e2af6a6c349ae&vjs=3'"
            ]
          },
          "metadata": {
            "tags": []
          },
          "execution_count": 18
        }
      ]
    },
    {
      "cell_type": "code",
      "metadata": {
        "id": "36JLEmyBfM3c",
        "colab": {
          "base_uri": "https://localhost:8080/"
        },
        "outputId": "aa1a1ae5-96f3-4576-e79d-026d5f5a2ba4"
      },
      "source": [
        "card.find('span','company')"
      ],
      "execution_count": 19,
      "outputs": [
        {
          "output_type": "execute_result",
          "data": {
            "text/plain": [
              "<span class=\"company\">\n",
              "AlphaExpression Technologies</span>"
            ]
          },
          "metadata": {
            "tags": []
          },
          "execution_count": 19
        }
      ]
    },
    {
      "cell_type": "code",
      "metadata": {
        "id": "JORIIdGafM3e",
        "colab": {
          "base_uri": "https://localhost:8080/",
          "height": 35
        },
        "outputId": "89596a9d-433d-42c3-d2e6-8943d7a37216"
      },
      "source": [
        "card.find('span','company').text"
      ],
      "execution_count": 20,
      "outputs": [
        {
          "output_type": "execute_result",
          "data": {
            "application/vnd.google.colaboratory.intrinsic+json": {
              "type": "string"
            },
            "text/plain": [
              "'\\nAlphaExpression Technologies'"
            ]
          },
          "metadata": {
            "tags": []
          },
          "execution_count": 20
        }
      ]
    },
    {
      "cell_type": "code",
      "metadata": {
        "id": "Jugr9L1rfM3f"
      },
      "source": [
        "## remove space using strip ()method\n",
        "company = card.find('span','company').text.strip()"
      ],
      "execution_count": 21,
      "outputs": []
    },
    {
      "cell_type": "code",
      "metadata": {
        "id": "dipTWSrAfM3g",
        "colab": {
          "base_uri": "https://localhost:8080/",
          "height": 35
        },
        "outputId": "47f49bc2-414f-47b6-e541-cd2ac8bb9a78"
      },
      "source": [
        "company"
      ],
      "execution_count": 22,
      "outputs": [
        {
          "output_type": "execute_result",
          "data": {
            "application/vnd.google.colaboratory.intrinsic+json": {
              "type": "string"
            },
            "text/plain": [
              "'AlphaExpression Technologies'"
            ]
          },
          "metadata": {
            "tags": []
          },
          "execution_count": 22
        }
      ]
    },
    {
      "cell_type": "code",
      "metadata": {
        "id": "07TnT5MLfM3g",
        "colab": {
          "base_uri": "https://localhost:8080/"
        },
        "outputId": "6eac29df-629c-41e1-8b90-bb52f2880877"
      },
      "source": [
        "card.find('div','recJobLoc')"
      ],
      "execution_count": 23,
      "outputs": [
        {
          "output_type": "execute_result",
          "data": {
            "text/plain": [
              "<div class=\"recJobLoc\" data-rc-loc=\"Thiruvananthapuram, Kerala\" id=\"recJobLoc_4901a914a5935cd9\" style=\"display: none\"></div>"
            ]
          },
          "metadata": {
            "tags": []
          },
          "execution_count": 23
        }
      ]
    },
    {
      "cell_type": "code",
      "metadata": {
        "id": "4TeHxF35fM3j"
      },
      "source": [
        "job_location = card.find('div','recJobLoc').get('data-rc-loc')"
      ],
      "execution_count": 24,
      "outputs": []
    },
    {
      "cell_type": "code",
      "metadata": {
        "id": "-zyyApdlfM3j",
        "colab": {
          "base_uri": "https://localhost:8080/"
        },
        "outputId": "5b0a023b-149e-485b-d89b-872a3f6e2c87"
      },
      "source": [
        "card.find('div','summary')"
      ],
      "execution_count": 25,
      "outputs": [
        {
          "output_type": "execute_result",
          "data": {
            "text/plain": [
              "<div class=\"summary\">\n",
              "<ul style=\"list-style-type:circle;margin-top: 0px;margin-bottom: 0px;padding-left:20px;\">\n",
              "<li style=\"margin-bottom:0px;\">Study and convert functional requirements into technical tasks.</li>\n",
              "<li style=\"margin-bottom:0px;\">Analyse, calculate and provide estimates.</li>\n",
              "<li style=\"margin-bottom:0px;\">Ensure the product meets the requirements.</li>\n",
              "<li>Demonstrate ownership and initiative-taking.</li>\n",
              "</ul></div>"
            ]
          },
          "metadata": {
            "tags": []
          },
          "execution_count": 25
        }
      ]
    },
    {
      "cell_type": "code",
      "metadata": {
        "id": "c21C4Ab-fM3l"
      },
      "source": [
        "job_summary1=card.find('div','summary').text.strip()"
      ],
      "execution_count": 26,
      "outputs": []
    },
    {
      "cell_type": "code",
      "metadata": {
        "id": "FbgrneUjfM3m",
        "colab": {
          "base_uri": "https://localhost:8080/",
          "height": 53
        },
        "outputId": "3d61c0a9-eb84-4c09-ab94-ffa0fe6ac5da"
      },
      "source": [
        "job_summary1"
      ],
      "execution_count": 27,
      "outputs": [
        {
          "output_type": "execute_result",
          "data": {
            "application/vnd.google.colaboratory.intrinsic+json": {
              "type": "string"
            },
            "text/plain": [
              "'Study and convert functional requirements into technical tasks.\\nAnalyse, calculate and provide estimates.\\nEnsure the product meets the requirements.\\nDemonstrate ownership and initiative-taking.'"
            ]
          },
          "metadata": {
            "tags": []
          },
          "execution_count": 27
        }
      ]
    },
    {
      "cell_type": "code",
      "metadata": {
        "id": "x5txpzUgfM3m"
      },
      "source": [
        "job_summary= job_summary1.replace(\"\\n\", \" \")"
      ],
      "execution_count": 28,
      "outputs": []
    },
    {
      "cell_type": "code",
      "metadata": {
        "id": "QQgdm5L-fM3n",
        "colab": {
          "base_uri": "https://localhost:8080/",
          "height": 53
        },
        "outputId": "fe28c9c3-5dd2-4a5d-f71b-60a8b94253a3"
      },
      "source": [
        "job_summary"
      ],
      "execution_count": 29,
      "outputs": [
        {
          "output_type": "execute_result",
          "data": {
            "application/vnd.google.colaboratory.intrinsic+json": {
              "type": "string"
            },
            "text/plain": [
              "'Study and convert functional requirements into technical tasks. Analyse, calculate and provide estimates. Ensure the product meets the requirements. Demonstrate ownership and initiative-taking.'"
            ]
          },
          "metadata": {
            "tags": []
          },
          "execution_count": 29
        }
      ]
    },
    {
      "cell_type": "code",
      "metadata": {
        "id": "v4ToXvsAfM3o",
        "colab": {
          "base_uri": "https://localhost:8080/"
        },
        "outputId": "39cfd94f-8e94-4c24-d936-f5efa6a72cde"
      },
      "source": [
        "card.find('span','date')"
      ],
      "execution_count": 30,
      "outputs": [
        {
          "output_type": "execute_result",
          "data": {
            "text/plain": [
              "<span class=\"date date-a11y\">15 days ago</span>"
            ]
          },
          "metadata": {
            "tags": []
          },
          "execution_count": 30
        }
      ]
    },
    {
      "cell_type": "code",
      "metadata": {
        "id": "1HE15SNefM3o"
      },
      "source": [
        "post_date = card.find('span','date').text"
      ],
      "execution_count": 31,
      "outputs": []
    },
    {
      "cell_type": "code",
      "metadata": {
        "id": "9WNeir4yfM3p",
        "colab": {
          "base_uri": "https://localhost:8080/",
          "height": 35
        },
        "outputId": "0390422e-0233-4f64-e57a-aecbfd0d31d4"
      },
      "source": [
        "post_date"
      ],
      "execution_count": 32,
      "outputs": [
        {
          "output_type": "execute_result",
          "data": {
            "application/vnd.google.colaboratory.intrinsic+json": {
              "type": "string"
            },
            "text/plain": [
              "'15 days ago'"
            ]
          },
          "metadata": {
            "tags": []
          },
          "execution_count": 32
        }
      ]
    },
    {
      "cell_type": "code",
      "metadata": {
        "id": "C2Fuf5bofM3q",
        "colab": {
          "base_uri": "https://localhost:8080/"
        },
        "outputId": "c5293fc1-3935-4e1a-8a9f-84bc63db0874"
      },
      "source": [
        "from datetime import date\n",
        "today = date.today()\n",
        "current_date= today.strftime(\"%B %d, %Y\")\n",
        "print(current_date)"
      ],
      "execution_count": 33,
      "outputs": [
        {
          "output_type": "stream",
          "text": [
            "June 16, 2021\n"
          ],
          "name": "stdout"
        }
      ]
    },
    {
      "cell_type": "code",
      "metadata": {
        "id": "n7WrM72wfM3r"
      },
      "source": [
        "## Some job post  doesnot have the salary range\n",
        "try:\n",
        "    job_salary = card.find('span','salaryText').text.strip()\n",
        "except AttributeError:\n",
        "    job_salary = ''"
      ],
      "execution_count": 34,
      "outputs": []
    },
    {
      "cell_type": "markdown",
      "metadata": {
        "id": "v3CG6Cz9fM3r"
      },
      "source": [
        "## Generalize the model with a function"
      ]
    },
    {
      "cell_type": "code",
      "metadata": {
        "id": "fWDZ8YR5fM3s"
      },
      "source": [
        "def get_record(card):\n",
        "    atag = card.h2.a\n",
        "    job_title = atag.get('title')\n",
        "    job_url ='https://in.indeed.com' + atag.get(\"href\")\n",
        "    company = card.find('span','company').text.strip()\n",
        "    job_location = card.find('div','recJobLoc').get('data-rc-loc')\n",
        "    job_summary1=card.find('div','summary').text.strip()\n",
        "    job_summary = job_summary1.replace(\"\\n\", \" \")\n",
        "    post_date = card.find('span','date').text\n",
        "    current_date= today.strftime(\"%B %d, %Y\")\n",
        "    try:\n",
        "        job_salary = card.find('span','salaryText').text.strip()\n",
        "    except AttributeError:\n",
        "        job_salary = ''\n",
        "        \n",
        "    record = (job_title,company,job_location,post_date, current_date,job_summary,job_salary,job_url)\n",
        "    \n",
        "    return record"
      ],
      "execution_count": 35,
      "outputs": []
    },
    {
      "cell_type": "code",
      "metadata": {
        "id": "yAkdn-SgfM3t"
      },
      "source": [
        "records = []\n",
        "\n",
        "for card in cards :\n",
        "    record = get_record(card)\n",
        "    records.append(record)"
      ],
      "execution_count": 36,
      "outputs": []
    },
    {
      "cell_type": "code",
      "metadata": {
        "id": "GHzatjFhfM3t",
        "colab": {
          "base_uri": "https://localhost:8080/"
        },
        "outputId": "e5cc99a0-a5b5-44b8-bdc3-407b179d58b1"
      },
      "source": [
        "records[0]"
      ],
      "execution_count": 37,
      "outputs": [
        {
          "output_type": "execute_result",
          "data": {
            "text/plain": [
              "('Data Analyst',\n",
              " 'AlphaExpression Technologies',\n",
              " 'Thiruvananthapuram, Kerala',\n",
              " '15 days ago',\n",
              " 'June 16, 2021',\n",
              " 'Study and convert functional requirements into technical tasks. Analyse, calculate and provide estimates. Ensure the product meets the requirements. Demonstrate ownership and initiative-taking.',\n",
              " '',\n",
              " 'https://in.indeed.com/rc/clk?jk=4901a914a5935cd9&fccid=342e2af6a6c349ae&vjs=3')"
            ]
          },
          "metadata": {
            "tags": []
          },
          "execution_count": 37
        }
      ]
    },
    {
      "cell_type": "markdown",
      "metadata": {
        "id": "9iWok6RTfM3u"
      },
      "source": [
        "## Getting the next page"
      ]
    },
    {
      "cell_type": "code",
      "metadata": {
        "id": "fKfoXsgXfM3v"
      },
      "source": [
        "while True:\n",
        "    try:\n",
        "        url ='https://in.indeed.com' + soup.find('a',{'aria-label':'Next'}).get('href')\n",
        "    except AttributeError:\n",
        "        break\n",
        "    response = requests.get(url)\n",
        "    soup = bs(response.text,'html.parser')\n",
        "    cards = soup.find_all('div','jobsearch-SerpJobCard')\n",
        "    \n",
        "    for card in cards:\n",
        "        record = get_record(card)\n",
        "        records.append(record)"
      ],
      "execution_count": 38,
      "outputs": []
    },
    {
      "cell_type": "code",
      "metadata": {
        "id": "l8lJdEtFfM3v",
        "colab": {
          "base_uri": "https://localhost:8080/"
        },
        "outputId": "6bba7c02-2fe4-46d3-fb08-c1062777df8e"
      },
      "source": [
        "len(records)"
      ],
      "execution_count": 39,
      "outputs": [
        {
          "output_type": "execute_result",
          "data": {
            "text/plain": [
              "57"
            ]
          },
          "metadata": {
            "tags": []
          },
          "execution_count": 39
        }
      ]
    },
    {
      "cell_type": "markdown",
      "metadata": {
        "id": "jIJ5FoQHfM3w"
      },
      "source": [
        "## Combining the entire scrapping process together"
      ]
    },
    {
      "cell_type": "code",
      "metadata": {
        "id": "WC3WR5vsfM3w"
      },
      "source": [
        "import csv\n",
        "from datetime import datetime\n",
        "import requests\n",
        "from bs4 import BeautifulSoup as bs\n",
        "\n",
        "def get_url(position, location):\n",
        "    template = \"https://in.indeed.com/jobs?q={}&l={}\"\n",
        "    url = template.format(position, location)\n",
        "    return url\n",
        "def get_record(card):\n",
        "    atag = card.h2.a\n",
        "    job_title = atag.get('title')\n",
        "    job_url ='https://in.indeed.com' + atag.get(\"href\")\n",
        "    company = card.find('span','company').text.strip()\n",
        "    job_location = card.find('div','recJobLoc').get('data-rc-loc')\n",
        "    job_summary1=card.find('div','summary').text.strip()\n",
        "    job_summary = job_summary1.replace(\"\\n\", \" \")\n",
        "    post_date = card.find('span','date').text\n",
        "    current_date= today.strftime(\"%B %d, %Y\")\n",
        "    try:\n",
        "        job_salary = card.find('span','salaryText').text.strip()\n",
        "    except AttributeError:\n",
        "        job_salary = ''\n",
        "        \n",
        "    record = (job_title,company,job_location,post_date, current_date,job_summary,job_salary,job_url)\n",
        "    \n",
        "    return record\n",
        "\n",
        "def main(position,location):\n",
        "    records =[]\n",
        "    url = get_url(position,location)\n",
        "    \n",
        "    \n",
        "    #extract the job data\n",
        "    \n",
        "    while True:\n",
        "            response = requests.get(url)\n",
        "            soup = bs(response.text,'html.parser')\n",
        "            cards = soup.find_all('div','jobsearch-SerpJobCard')\n",
        "          \n",
        "    \n",
        "    \n",
        "            for card in cards:\n",
        "                record = get_record(card)\n",
        "                records.append(record)\n",
        "        \n",
        "            try:  \n",
        "                url ='https://in.indeed.com' + soup.find('a',{'aria-label':'Next'}).get('href')\n",
        "            except AttributeError:\n",
        "                break\n",
        "    # Save the the job data\n",
        "    with open('job_results_1.csv','w',newline = '',encoding='utf-8') as f:\n",
        "        writer = csv.writer(f)\n",
        "        writer.writerow(['Job Title','Company','Loaction','PostDate','CurrentDate','Summary','Salary','Joburl'])\n",
        "        writer.writerows(records)"
      ],
      "execution_count": 40,
      "outputs": []
    },
    {
      "cell_type": "markdown",
      "metadata": {
        "id": "-_Sj1IOCfM3x"
      },
      "source": [
        "### Run the main program"
      ]
    },
    {
      "cell_type": "code",
      "metadata": {
        "id": "S8tPFdtEfM30"
      },
      "source": [
        "main('software developer', 'Kerala')"
      ],
      "execution_count": 41,
      "outputs": []
    },
    {
      "cell_type": "code",
      "metadata": {
        "id": "VT_MUSMyfM30"
      },
      "source": [
        ""
      ],
      "execution_count": 41,
      "outputs": []
    }
  ]
}